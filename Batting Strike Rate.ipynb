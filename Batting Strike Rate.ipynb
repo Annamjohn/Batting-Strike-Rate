{
  "cells": [
    {
      "cell_type": "markdown",
      "metadata": {
        "id": "view-in-github",
        "colab_type": "text"
      },
      "source": [
        "<a href=\"https://colab.research.google.com/github/Annamjohn/Batting-Strike-Rate/blob/main/Batting%20Strike%20Rate.ipynb\" target=\"_parent\"><img src=\"https://colab.research.google.com/assets/colab-badge.svg\" alt=\"Open In Colab\"/></a>"
      ]
    },
    {
      "cell_type": "code",
      "source": [
        "#Batting strike rate (s/r) is defined for a batter as the average number of runs scored per 100 balls faced. "
      ],
      "metadata": {
        "id": "ICw2CK8FgGVF"
      },
      "execution_count": 1,
      "outputs": []
    },
    {
      "cell_type": "code",
      "source": [
        "name=input(\"Enter name of batsman\")\n",
        "r=int(input(\"Enter no. of runs scored by the batsman: \"))\n",
        "b=int(input(\"Enter the no. of balls faced by batsman: 4\"))\n",
        "\n",
        "strike_rate=(r/b)*100\n",
        "print(\"Batting strike rate of\",name, \"is\",strike_rate)"
      ],
      "metadata": {
        "id": "RQdDgcxZgpvM",
        "outputId": "4bc86308-8189-48f4-d7e3-cacfabcc6e61",
        "colab": {
          "base_uri": "https://localhost:8080/"
        }
      },
      "execution_count": 4,
      "outputs": [
        {
          "output_type": "stream",
          "name": "stdout",
          "text": [
            "Enter name of batsmanSky\n",
            "Enter no. of runs scored by the batsman: 805\n",
            "Enter the no. of balls faced by batsman: 466\n",
            "Batting strike rate of Sky is 172.74678111587983\n"
          ]
        }
      ]
    },
    {
      "cell_type": "code",
      "source": [],
      "metadata": {
        "id": "f3k8QXgHgpyT"
      },
      "execution_count": null,
      "outputs": []
    },
    {
      "cell_type": "code",
      "source": [],
      "metadata": {
        "id": "3OHnqr27gp2f"
      },
      "execution_count": null,
      "outputs": []
    },
    {
      "cell_type": "code",
      "source": [],
      "metadata": {
        "id": "rYE2kHPHgp5s"
      },
      "execution_count": null,
      "outputs": []
    },
    {
      "cell_type": "code",
      "source": [],
      "metadata": {
        "id": "DfkbtYVfgp9H"
      },
      "execution_count": null,
      "outputs": []
    }
  ],
  "metadata": {
    "colab": {
      "name": "Welcome To Colaboratory",
      "toc_visible": true,
      "provenance": [],
      "include_colab_link": true
    },
    "kernelspec": {
      "display_name": "Python 3",
      "name": "python3"
    }
  },
  "nbformat": 4,
  "nbformat_minor": 0
}